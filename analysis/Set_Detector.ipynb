{
 "cells": [
  {
   "cell_type": "code",
   "execution_count": 1,
   "metadata": {},
   "outputs": [],
   "source": [
    "%matplotlib inline\n",
    "import numpy as np\n",
    "import pandas as pd\n",
    "import matplotlib.pyplot as plt"
   ]
  },
  {
   "cell_type": "code",
   "execution_count": 2,
   "metadata": {},
   "outputs": [],
   "source": [
    "def distance(*args):\n",
    "    '''Works for small distances'''\n",
    "    if len(args) == 2:\n",
    "        lat1, lon1 = args[0]\n",
    "        lat2, lon2 = args[1]\n",
    "    if len(args) == 4:\n",
    "        lat1, lon1, lat2, lon2 = args\n",
    "    else:\n",
    "        raise ValueError(\"requires 2 or 4 args\")\n",
    "    RADIUS = 6378137.0 # in meters on the equator\n",
    "    CIRC = (2 * np.pi * RADIUS)\n",
    "    dy = CIRC * (lat2-lat1)/360\n",
    "#     at the poles differences in longitude imply 0 difference in distance\n",
    "    lat_factor = (90-np.abs(lat1))/90\n",
    "    dx = CIRC * (lon2-lon1)/360 * lat_factor\n",
    "    return np.sqrt(dx**2 + dy**2)"
   ]
  },
  {
   "cell_type": "code",
   "execution_count": 3,
   "metadata": {},
   "outputs": [
    {
     "data": {
      "text/html": [
       "<div>\n",
       "<style scoped>\n",
       "    .dataframe tbody tr th:only-of-type {\n",
       "        vertical-align: middle;\n",
       "    }\n",
       "\n",
       "    .dataframe tbody tr th {\n",
       "        vertical-align: top;\n",
       "    }\n",
       "\n",
       "    .dataframe thead th {\n",
       "        text-align: right;\n",
       "    }\n",
       "</style>\n",
       "<table border=\"1\" class=\"dataframe\">\n",
       "  <thead>\n",
       "    <tr style=\"text-align: right;\">\n",
       "      <th></th>\n",
       "      <th>boat_COG</th>\n",
       "      <th>boat_lat</th>\n",
       "      <th>boat_lon</th>\n",
       "      <th>boat_speed</th>\n",
       "      <th>datetime</th>\n",
       "      <th>pressure</th>\n",
       "      <th>skiff_COG</th>\n",
       "      <th>skiff_lat</th>\n",
       "      <th>skiff_lon</th>\n",
       "      <th>skiff_speed</th>\n",
       "      <th>temp</th>\n",
       "    </tr>\n",
       "  </thead>\n",
       "  <tbody>\n",
       "    <tr>\n",
       "      <th>0</th>\n",
       "      <td>66.020</td>\n",
       "      <td>60.8184</td>\n",
       "      <td>-148.152</td>\n",
       "      <td>0.2260</td>\n",
       "      <td>2018-08-04 05:58:10</td>\n",
       "      <td>99.2844</td>\n",
       "      <td>NaN</td>\n",
       "      <td>NaN</td>\n",
       "      <td>NaN</td>\n",
       "      <td>NaN</td>\n",
       "      <td>3.17640</td>\n",
       "    </tr>\n",
       "    <tr>\n",
       "      <th>1</th>\n",
       "      <td>79.444</td>\n",
       "      <td>60.8184</td>\n",
       "      <td>-148.152</td>\n",
       "      <td>0.2900</td>\n",
       "      <td>2018-08-04 05:58:11</td>\n",
       "      <td>99.3224</td>\n",
       "      <td>NaN</td>\n",
       "      <td>NaN</td>\n",
       "      <td>NaN</td>\n",
       "      <td>NaN</td>\n",
       "      <td>3.17445</td>\n",
       "    </tr>\n",
       "    <tr>\n",
       "      <th>2</th>\n",
       "      <td>82.132</td>\n",
       "      <td>60.8184</td>\n",
       "      <td>-148.152</td>\n",
       "      <td>0.2976</td>\n",
       "      <td>2018-08-04 05:58:16</td>\n",
       "      <td>99.3005</td>\n",
       "      <td>NaN</td>\n",
       "      <td>NaN</td>\n",
       "      <td>NaN</td>\n",
       "      <td>NaN</td>\n",
       "      <td>3.17445</td>\n",
       "    </tr>\n",
       "    <tr>\n",
       "      <th>3</th>\n",
       "      <td>49.684</td>\n",
       "      <td>60.8184</td>\n",
       "      <td>-148.152</td>\n",
       "      <td>0.3600</td>\n",
       "      <td>2018-08-04 05:58:21</td>\n",
       "      <td>99.3224</td>\n",
       "      <td>NaN</td>\n",
       "      <td>NaN</td>\n",
       "      <td>NaN</td>\n",
       "      <td>NaN</td>\n",
       "      <td>3.17445</td>\n",
       "    </tr>\n",
       "    <tr>\n",
       "      <th>4</th>\n",
       "      <td>351.715</td>\n",
       "      <td>60.8185</td>\n",
       "      <td>-148.152</td>\n",
       "      <td>0.4685</td>\n",
       "      <td>2018-08-04 05:58:43</td>\n",
       "      <td>99.3375</td>\n",
       "      <td>NaN</td>\n",
       "      <td>NaN</td>\n",
       "      <td>NaN</td>\n",
       "      <td>NaN</td>\n",
       "      <td>3.16666</td>\n",
       "    </tr>\n",
       "  </tbody>\n",
       "</table>\n",
       "</div>"
      ],
      "text/plain": [
       "   boat_COG  boat_lat  boat_lon  boat_speed             datetime  pressure  \\\n",
       "0    66.020   60.8184  -148.152      0.2260  2018-08-04 05:58:10   99.2844   \n",
       "1    79.444   60.8184  -148.152      0.2900  2018-08-04 05:58:11   99.3224   \n",
       "2    82.132   60.8184  -148.152      0.2976  2018-08-04 05:58:16   99.3005   \n",
       "3    49.684   60.8184  -148.152      0.3600  2018-08-04 05:58:21   99.3224   \n",
       "4   351.715   60.8185  -148.152      0.4685  2018-08-04 05:58:43   99.3375   \n",
       "\n",
       "   skiff_COG  skiff_lat  skiff_lon  skiff_speed     temp  \n",
       "0        NaN        NaN        NaN          NaN  3.17640  \n",
       "1        NaN        NaN        NaN          NaN  3.17445  \n",
       "2        NaN        NaN        NaN          NaN  3.17445  \n",
       "3        NaN        NaN        NaN          NaN  3.17445  \n",
       "4        NaN        NaN        NaN          NaN  3.16666  "
      ]
     },
     "execution_count": 3,
     "metadata": {},
     "output_type": "execute_result"
    }
   ],
   "source": [
    "fname = '../pi/data/2018-08-04.csv'\n",
    "all_data = pd.read_csv(fname, sep='\\t')\n",
    "all_data.head()"
   ]
  },
  {
   "cell_type": "markdown",
   "metadata": {},
   "source": [
    "Check to make sure all the data looks normal..."
   ]
  },
  {
   "cell_type": "code",
   "execution_count": 4,
   "metadata": {},
   "outputs": [
    {
     "data": {
      "text/html": [
       "<div>\n",
       "<style scoped>\n",
       "    .dataframe tbody tr th:only-of-type {\n",
       "        vertical-align: middle;\n",
       "    }\n",
       "\n",
       "    .dataframe tbody tr th {\n",
       "        vertical-align: top;\n",
       "    }\n",
       "\n",
       "    .dataframe thead th {\n",
       "        text-align: right;\n",
       "    }\n",
       "</style>\n",
       "<table border=\"1\" class=\"dataframe\">\n",
       "  <thead>\n",
       "    <tr style=\"text-align: right;\">\n",
       "      <th></th>\n",
       "      <th>boat_lat</th>\n",
       "      <th>boat_lon</th>\n",
       "      <th>skiff_lat</th>\n",
       "      <th>skiff_lon</th>\n",
       "    </tr>\n",
       "  </thead>\n",
       "  <tbody>\n",
       "    <tr>\n",
       "      <th>count</th>\n",
       "      <td>4544.000000</td>\n",
       "      <td>4544.000000</td>\n",
       "      <td>4.544000e+03</td>\n",
       "      <td>4.544000e+03</td>\n",
       "    </tr>\n",
       "    <tr>\n",
       "      <th>mean</th>\n",
       "      <td>60.764087</td>\n",
       "      <td>-148.129879</td>\n",
       "      <td>6.055803e+01</td>\n",
       "      <td>-1.480683e+02</td>\n",
       "    </tr>\n",
       "    <tr>\n",
       "      <th>std</th>\n",
       "      <td>0.018515</td>\n",
       "      <td>0.043649</td>\n",
       "      <td>1.594632e+00</td>\n",
       "      <td>2.554269e+00</td>\n",
       "    </tr>\n",
       "    <tr>\n",
       "      <th>min</th>\n",
       "      <td>60.751366</td>\n",
       "      <td>-148.172755</td>\n",
       "      <td>1.346820e-34</td>\n",
       "      <td>-1.481728e+02</td>\n",
       "    </tr>\n",
       "    <tr>\n",
       "      <th>25%</th>\n",
       "      <td>60.755608</td>\n",
       "      <td>-148.145522</td>\n",
       "      <td>6.075606e+01</td>\n",
       "      <td>-1.481469e+02</td>\n",
       "    </tr>\n",
       "    <tr>\n",
       "      <th>50%</th>\n",
       "      <td>60.756311</td>\n",
       "      <td>-148.143378</td>\n",
       "      <td>6.075684e+01</td>\n",
       "      <td>-1.481448e+02</td>\n",
       "    </tr>\n",
       "    <tr>\n",
       "      <th>75%</th>\n",
       "      <td>60.757431</td>\n",
       "      <td>-148.140129</td>\n",
       "      <td>6.075733e+01</td>\n",
       "      <td>-1.481406e+02</td>\n",
       "    </tr>\n",
       "    <tr>\n",
       "      <th>max</th>\n",
       "      <td>60.819300</td>\n",
       "      <td>-147.979829</td>\n",
       "      <td>6.081860e+01</td>\n",
       "      <td>4.623070e-33</td>\n",
       "    </tr>\n",
       "  </tbody>\n",
       "</table>\n",
       "</div>"
      ],
      "text/plain": [
       "          boat_lat     boat_lon     skiff_lat     skiff_lon\n",
       "count  4544.000000  4544.000000  4.544000e+03  4.544000e+03\n",
       "mean     60.764087  -148.129879  6.055803e+01 -1.480683e+02\n",
       "std       0.018515     0.043649  1.594632e+00  2.554269e+00\n",
       "min      60.751366  -148.172755  1.346820e-34 -1.481728e+02\n",
       "25%      60.755608  -148.145522  6.075606e+01 -1.481469e+02\n",
       "50%      60.756311  -148.143378  6.075684e+01 -1.481448e+02\n",
       "75%      60.757431  -148.140129  6.075733e+01 -1.481406e+02\n",
       "max      60.819300  -147.979829  6.081860e+01  4.623070e-33"
      ]
     },
     "execution_count": 4,
     "metadata": {},
     "output_type": "execute_result"
    }
   ],
   "source": [
    "df = all_data[['datetime','boat_lat', 'boat_lon', 'skiff_lat', 'skiff_lon']]\n",
    "df = df.dropna(how='any')\n",
    "df['datetime'] = df['datetime'].apply(pd.datetime.strptime, args=(\"%Y-%m-%d %H:%M:%S\",))\n",
    "df['date'] = df['datetime'].apply(pd.datetime.date)\n",
    "df['time'] = df['datetime'].apply(pd.datetime.time)\n",
    "df.describe()"
   ]
  },
  {
   "cell_type": "code",
   "execution_count": 5,
   "metadata": {},
   "outputs": [
    {
     "data": {
      "text/plain": [
       "<matplotlib.collections.PathCollection at 0x109aa0d30>"
      ]
     },
     "execution_count": 5,
     "metadata": {},
     "output_type": "execute_result"
    },
    {
     "data": {
      "image/png": "[encoded data removed]",
      "text/plain": [
       "<matplotlib.figure.Figure at 0x109a46c88>"
      ]
     },
     "metadata": {},
     "output_type": "display_data"
    }
   ],
   "source": [
    "plt.scatter(df['boat_lon'], df['boat_lat'])"
   ]
  },
  {
   "cell_type": "markdown",
   "metadata": {},
   "source": [
    "The boat location data looks great, but the skiff stuff looks al weird. Filter all the obvious errors"
   ]
  },
  {
   "cell_type": "code",
   "execution_count": 6,
   "metadata": {},
   "outputs": [
    {
     "data": {
      "text/html": [
       "<div>\n",
       "<style scoped>\n",
       "    .dataframe tbody tr th:only-of-type {\n",
       "        vertical-align: middle;\n",
       "    }\n",
       "\n",
       "    .dataframe tbody tr th {\n",
       "        vertical-align: top;\n",
       "    }\n",
       "\n",
       "    .dataframe thead th {\n",
       "        text-align: right;\n",
       "    }\n",
       "</style>\n",
       "<table border=\"1\" class=\"dataframe\">\n",
       "  <thead>\n",
       "    <tr style=\"text-align: right;\">\n",
       "      <th></th>\n",
       "      <th>boat_lat</th>\n",
       "      <th>boat_lon</th>\n",
       "      <th>skiff_lat</th>\n",
       "      <th>skiff_lon</th>\n",
       "    </tr>\n",
       "  </thead>\n",
       "  <tbody>\n",
       "    <tr>\n",
       "      <th>count</th>\n",
       "      <td>4425.000000</td>\n",
       "      <td>4425.000000</td>\n",
       "      <td>4425.000000</td>\n",
       "      <td>4425.000000</td>\n",
       "    </tr>\n",
       "    <tr>\n",
       "      <th>mean</th>\n",
       "      <td>60.764093</td>\n",
       "      <td>-148.130001</td>\n",
       "      <td>60.764274</td>\n",
       "      <td>-148.130797</td>\n",
       "    </tr>\n",
       "    <tr>\n",
       "      <th>std</th>\n",
       "      <td>0.018534</td>\n",
       "      <td>0.043384</td>\n",
       "      <td>0.018441</td>\n",
       "      <td>0.043669</td>\n",
       "    </tr>\n",
       "    <tr>\n",
       "      <th>min</th>\n",
       "      <td>60.751366</td>\n",
       "      <td>-148.172755</td>\n",
       "      <td>60.680738</td>\n",
       "      <td>-148.172843</td>\n",
       "    </tr>\n",
       "    <tr>\n",
       "      <th>25%</th>\n",
       "      <td>60.755617</td>\n",
       "      <td>-148.145526</td>\n",
       "      <td>60.756138</td>\n",
       "      <td>-148.146921</td>\n",
       "    </tr>\n",
       "    <tr>\n",
       "      <th>50%</th>\n",
       "      <td>60.756312</td>\n",
       "      <td>-148.143386</td>\n",
       "      <td>60.756881</td>\n",
       "      <td>-148.144791</td>\n",
       "    </tr>\n",
       "    <tr>\n",
       "      <th>75%</th>\n",
       "      <td>60.757431</td>\n",
       "      <td>-148.140130</td>\n",
       "      <td>60.757354</td>\n",
       "      <td>-148.140615</td>\n",
       "    </tr>\n",
       "    <tr>\n",
       "      <th>max</th>\n",
       "      <td>60.819100</td>\n",
       "      <td>-147.979829</td>\n",
       "      <td>60.818600</td>\n",
       "      <td>-147.979900</td>\n",
       "    </tr>\n",
       "  </tbody>\n",
       "</table>\n",
       "</div>"
      ],
      "text/plain": [
       "          boat_lat     boat_lon    skiff_lat    skiff_lon\n",
       "count  4425.000000  4425.000000  4425.000000  4425.000000\n",
       "mean     60.764093  -148.130001    60.764274  -148.130797\n",
       "std       0.018534     0.043384     0.018441     0.043669\n",
       "min      60.751366  -148.172755    60.680738  -148.172843\n",
       "25%      60.755617  -148.145526    60.756138  -148.146921\n",
       "50%      60.756312  -148.143386    60.756881  -148.144791\n",
       "75%      60.757431  -148.140130    60.757354  -148.140615\n",
       "max      60.819100  -147.979829    60.818600  -147.979900"
      ]
     },
     "execution_count": 6,
     "metadata": {},
     "output_type": "execute_result"
    }
   ],
   "source": [
    "df = df[df['skiff_lat'] > 59]\n",
    "df = df[df['skiff_lon'] < -146]\n",
    "df.describe()"
   ]
  },
  {
   "cell_type": "code",
   "execution_count": 7,
   "metadata": {
    "scrolled": true
   },
   "outputs": [
    {
     "data": {
      "text/plain": [
       "<matplotlib.collections.PathCollection at 0x109f4d1d0>"
      ]
     },
     "execution_count": 7,
     "metadata": {},
     "output_type": "execute_result"
    },
    {
     "data": {
      "image/png": "[encoded data removed]",
      "text/plain": [
       "<matplotlib.figure.Figure at 0x109a99320>"
      ]
     },
     "metadata": {},
     "output_type": "display_data"
    }
   ],
   "source": [
    "plt.scatter(df['skiff_lon'], df['skiff_lat'])"
   ]
  },
  {
   "cell_type": "markdown",
   "metadata": {},
   "source": [
    "There's still that one outlier..."
   ]
  },
  {
   "cell_type": "code",
   "execution_count": 8,
   "metadata": {},
   "outputs": [
    {
     "data": {
      "text/html": [
       "<div>\n",
       "<style scoped>\n",
       "    .dataframe tbody tr th:only-of-type {\n",
       "        vertical-align: middle;\n",
       "    }\n",
       "\n",
       "    .dataframe tbody tr th {\n",
       "        vertical-align: top;\n",
       "    }\n",
       "\n",
       "    .dataframe thead th {\n",
       "        text-align: right;\n",
       "    }\n",
       "</style>\n",
       "<table border=\"1\" class=\"dataframe\">\n",
       "  <thead>\n",
       "    <tr style=\"text-align: right;\">\n",
       "      <th></th>\n",
       "      <th>boat_lat</th>\n",
       "      <th>boat_lon</th>\n",
       "      <th>skiff_lat</th>\n",
       "      <th>skiff_lon</th>\n",
       "    </tr>\n",
       "  </thead>\n",
       "  <tbody>\n",
       "    <tr>\n",
       "      <th>count</th>\n",
       "      <td>4423.000000</td>\n",
       "      <td>4423.000000</td>\n",
       "      <td>4423.000000</td>\n",
       "      <td>4423.000000</td>\n",
       "    </tr>\n",
       "    <tr>\n",
       "      <th>mean</th>\n",
       "      <td>60.764096</td>\n",
       "      <td>-148.129995</td>\n",
       "      <td>60.764312</td>\n",
       "      <td>-148.130791</td>\n",
       "    </tr>\n",
       "    <tr>\n",
       "      <th>std</th>\n",
       "      <td>0.018537</td>\n",
       "      <td>0.043393</td>\n",
       "      <td>0.018359</td>\n",
       "      <td>0.043678</td>\n",
       "    </tr>\n",
       "    <tr>\n",
       "      <th>min</th>\n",
       "      <td>60.751366</td>\n",
       "      <td>-148.172755</td>\n",
       "      <td>60.751412</td>\n",
       "      <td>-148.172843</td>\n",
       "    </tr>\n",
       "    <tr>\n",
       "      <th>25%</th>\n",
       "      <td>60.755614</td>\n",
       "      <td>-148.145526</td>\n",
       "      <td>60.756142</td>\n",
       "      <td>-148.146921</td>\n",
       "    </tr>\n",
       "    <tr>\n",
       "      <th>50%</th>\n",
       "      <td>60.756312</td>\n",
       "      <td>-148.143385</td>\n",
       "      <td>60.756881</td>\n",
       "      <td>-148.144791</td>\n",
       "    </tr>\n",
       "    <tr>\n",
       "      <th>75%</th>\n",
       "      <td>60.757431</td>\n",
       "      <td>-148.140127</td>\n",
       "      <td>60.757354</td>\n",
       "      <td>-148.140612</td>\n",
       "    </tr>\n",
       "    <tr>\n",
       "      <th>max</th>\n",
       "      <td>60.819100</td>\n",
       "      <td>-147.979829</td>\n",
       "      <td>60.818600</td>\n",
       "      <td>-147.979900</td>\n",
       "    </tr>\n",
       "  </tbody>\n",
       "</table>\n",
       "</div>"
      ],
      "text/plain": [
       "          boat_lat     boat_lon    skiff_lat    skiff_lon\n",
       "count  4423.000000  4423.000000  4423.000000  4423.000000\n",
       "mean     60.764096  -148.129995    60.764312  -148.130791\n",
       "std       0.018537     0.043393     0.018359     0.043678\n",
       "min      60.751366  -148.172755    60.751412  -148.172843\n",
       "25%      60.755614  -148.145526    60.756142  -148.146921\n",
       "50%      60.756312  -148.143385    60.756881  -148.144791\n",
       "75%      60.757431  -148.140127    60.757354  -148.140612\n",
       "max      60.819100  -147.979829    60.818600  -147.979900"
      ]
     },
     "execution_count": 8,
     "metadata": {},
     "output_type": "execute_result"
    },
    {
     "data": {
      "image/png": "[encoded data removed]",
      "text/plain": [
       "<matplotlib.figure.Figure at 0x109f4b5f8>"
      ]
     },
     "metadata": {},
     "output_type": "display_data"
    }
   ],
   "source": [
    "df = df[df['skiff_lat'] > 60.725]\n",
    "plt.scatter(df['skiff_lon'], df['skiff_lat'])\n",
    "df.describe()"
   ]
  },
  {
   "cell_type": "code",
   "execution_count": 9,
   "metadata": {},
   "outputs": [],
   "source": [
    "df['separation'] = distance(df['boat_lat'], df['boat_lon'], df['skiff_lat'], df['skiff_lon'])"
   ]
  },
  {
   "cell_type": "code",
   "execution_count": 10,
   "metadata": {},
   "outputs": [
    {
     "data": {
      "image/png": "[encoded data removed]",
      "text/plain": [
       "<matplotlib.figure.Figure at 0x106c18518>"
      ]
     },
     "metadata": {},
     "output_type": "display_data"
    }
   ],
   "source": [
    "plt.plot(df['time'], df['separation'])\n",
    "plt.show()"
   ]
  },
  {
   "cell_type": "code",
   "execution_count": 11,
   "metadata": {},
   "outputs": [],
   "source": [
    "sep = df['separation']"
   ]
  },
  {
   "cell_type": "code",
   "execution_count": null,
   "metadata": {},
   "outputs": [],
   "source": []
  }
 ],
 "metadata": {
  "kernelspec": {
   "display_name": "Python 3",
   "language": "python",
   "name": "python3"
  },
  "language_info": {
   "codemirror_mode": {
    "name": "ipython",
    "version": 3
   },
   "file_extension": ".py",
   "mimetype": "text/x-python",
   "name": "python",
   "nbconvert_exporter": "python",
   "pygments_lexer": "ipython3",
   "version": "3.6.4"
  }
 },
 "nbformat": 4,
 "nbformat_minor": 2
}
