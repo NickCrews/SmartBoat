{
 "cells": [
  {
   "cell_type": "code",
   "execution_count": 1,
   "metadata": {},
   "outputs": [
    {
     "ename": "ModuleNotFoundError",
     "evalue": "No module named 'pandas_datareader'",
     "output_type": "error",
     "traceback": [
      "\u001b[0;31m---------------------------------------------------------------------------\u001b[0m",
      "\u001b[0;31mModuleNotFoundError\u001b[0m                       Traceback (most recent call last)",
      "\u001b[0;32m<ipython-input-1-5b3e493fa0fe>\u001b[0m in \u001b[0;36m<module>\u001b[0;34m()\u001b[0m\n\u001b[1;32m      5\u001b[0m \u001b[0;32mimport\u001b[0m \u001b[0mbokeh\u001b[0m\u001b[0;34m.\u001b[0m\u001b[0mplotting\u001b[0m\u001b[0;34m\u001b[0m\u001b[0m\n\u001b[1;32m      6\u001b[0m \u001b[0;32mimport\u001b[0m \u001b[0mpandas\u001b[0m \u001b[0;32mas\u001b[0m \u001b[0mpd\u001b[0m\u001b[0;34m\u001b[0m\u001b[0m\n\u001b[0;32m----> 7\u001b[0;31m \u001b[0;32mfrom\u001b[0m \u001b[0mpandas_datareader\u001b[0m \u001b[0;32mimport\u001b[0m \u001b[0mwb\u001b[0m\u001b[0;34m\u001b[0m\u001b[0m\n\u001b[0m\u001b[1;32m      8\u001b[0m \u001b[0;34m\u001b[0m\u001b[0m\n\u001b[1;32m      9\u001b[0m \u001b[0mbokeh\u001b[0m\u001b[0;34m.\u001b[0m\u001b[0mplotting\u001b[0m\u001b[0;34m.\u001b[0m\u001b[0moutput_notebook\u001b[0m\u001b[0;34m(\u001b[0m\u001b[0;34m)\u001b[0m\u001b[0;34m\u001b[0m\u001b[0m\n",
      "\u001b[0;31mModuleNotFoundError\u001b[0m: No module named 'pandas_datareader'"
     ]
    }
   ],
   "source": [
    "import bokeh.embed\n",
    "import bokeh.io\n",
    "import bokeh.models\n",
    "import bokeh.models.widgets\n",
    "import bokeh.plotting\n",
    "import pandas as pd\n",
    "from pandas_datareader import wb\n",
    "\n",
    "bokeh.plotting.output_notebook()\n",
    "\n",
    "df = wb.download(indicator='NY.GDP.PCAP.KD', country=['US', 'CA', 'MX'], start=2005, end=2008)\n",
    "df = df.reset_index()\n",
    "\n",
    "source = bokeh.models.ColumnDataSource(df)\n",
    "original_source = bokeh.models.ColumnDataSource(df)\n",
    "columns = [\n",
    "    bokeh.models.widgets.TableColumn(field=\"country\", title=\"Country\"),\n",
    "    bokeh.models.widgets.TableColumn(field=\"year\", title=\"Year\"),\n",
    "    bokeh.models.widgets.TableColumn(field=\"NY.GDP.PCAP.KD\", title=\"NY.GDP.PCAP.KD\"),\n",
    "]\n",
    "data_table = bokeh.models.widgets.DataTable(source=source, columns=columns)\n",
    "\n",
    "# callback code to be used by all the filter widgets\n",
    "# requires (source, original_source, country_select_obj, year_select_obj, target_object)\n",
    "combined_callback_code = \"\"\"\n",
    "var data = source.get('data');\n",
    "var original_data = original_source.get('data');\n",
    "var country = country_select_obj.get('value');\n",
    "console.log(\"country: \" + country);\n",
    "var year = year_select_obj.get('value');\n",
    "console.log(\"year: \" + year);\n",
    "for (var key in original_data) {\n",
    "    data[key] = [];\n",
    "    for (var i = 0; i < original_data['country'].length; ++i) {\n",
    "        if ((country === \"ALL\" || original_data['country'][i] === country) &&\n",
    "            (year === \"ALL\" || original_data['year'][i] === year)) {\n",
    "            data[key].push(original_data[key][i]);\n",
    "        }\n",
    "    }\n",
    "}\n",
    "target_obj.trigger('change');\n",
    "source.trigger('change');\n",
    "\"\"\"\n",
    "\n",
    "# define the filter widgets, without callbacks for now\n",
    "country_list = ['ALL'] + df['country'].unique().tolist()\n",
    "country_select = bokeh.models.widgets.Select(title=\"Country:\", value=country_list[0], options=country_list)\n",
    "year_list = ['ALL'] + df['year'].unique().tolist()\n",
    "year_select = bokeh.models.widgets.Select(title=\"Year:\", value=year_list[0], options=year_list)\n",
    "\n",
    "# now define the callback objects now that the filter widgets exist\n",
    "generic_callback = bokeh.models.CustomJS(\n",
    "    args=dict(source=source, \n",
    "              original_source=original_source, \n",
    "              country_select_obj=country_select, \n",
    "              year_select_obj=year_select, \n",
    "              target_obj=data_table),\n",
    "    code=combined_callback_code\n",
    ")\n",
    "\n",
    "# finally, connect the callbacks to the filter widgets\n",
    "country_select.callback = generic_callback\n",
    "year_select.callback = generic_callback\n",
    "\n",
    "p = bokeh.io.vplot(country_select, year_select, data_table)\n",
    "bokeh.plotting.show(p)"
   ]
  },
  {
   "cell_type": "code",
   "execution_count": null,
   "metadata": {},
   "outputs": [],
   "source": []
  }
 ],
 "metadata": {
  "kernelspec": {
   "display_name": "Python 3",
   "language": "python",
   "name": "python3"
  },
  "language_info": {
   "codemirror_mode": {
    "name": "ipython",
    "version": 3
   },
   "file_extension": ".py",
   "mimetype": "text/x-python",
   "name": "python",
   "nbconvert_exporter": "python",
   "pygments_lexer": "ipython3",
   "version": "3.6.4"
  }
 },
 "nbformat": 4,
 "nbformat_minor": 2
}
